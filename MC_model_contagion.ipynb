{
 "cells": [
  {
   "cell_type": "code",
   "execution_count": 1,
   "metadata": {},
   "outputs": [],
   "source": [
    "import numpy as np\n",
    "import matplotlib.pyplot as plt"
   ]
  },
  {
   "cell_type": "code",
   "execution_count": 2,
   "metadata": {},
   "outputs": [],
   "source": [
    "settings = {}\n",
    "settings['N'] = 2000 #Population size\n",
    "settings['Nday'] = 240 # N Days of simulation\n",
    "settings['N_meet_day'] = 2.3 #Average N of people met every day (poisson distribution)\n",
    "settings['p_contagion'] = 0.3 #probability of contagion meeting a single sick person\n",
    "settings['duration_days'] = 13 #Illness duration in days\n",
    "settings['immunity_loss_days'] = 15 #Immunity duration after illnes"
   ]
  },
  {
   "cell_type": "code",
   "execution_count": 3,
   "metadata": {},
   "outputs": [],
   "source": [
    "def simulate(Nday = settings['Nday'], N = settings['N'], p_contagion = settings['p_contagion'],\n",
    "             N_meet_day=settings['N_meet_day'], duration_days = settings['duration_days'],\n",
    "             immunity_loss_days = settings['immunity_loss_days'], immunity_loss = False, intrusion = -1):\n",
    "    \n",
    "    humans = np.zeros(N)\n",
    "    contagion_era = np.zeros(N)\n",
    "    immunity_era = np.zeros(N)\n",
    "    humans[0] = 1\n",
    "    sick = []\n",
    "    immunized = []\n",
    "    total_sick = 1\n",
    "\n",
    "    for epoca in range(0,Nday):\n",
    "        meeting_number = np.random.poisson(N_meet_day, N)\n",
    "        contagion_era = contagion_era + np.where(humans==1,1,0)\n",
    "        immunity_era = immunity_era + np.where(humans==-1,1,0)\n",
    "        new_humans = np.copy(humans)\n",
    "        # random meeting between people and contagion\n",
    "        for i, p, nm in np.nditer([np.arange(N), humans, meeting_number]):\n",
    "            met_people = np.random.choice(humans,nm,replace = False)\n",
    "\n",
    "            x = p_contagion*np.sum(np.where(met_people>0,met_people,0))\n",
    "            if (p == 0) and (np.random.random() < x):\n",
    "                new_humans[i] = 1\n",
    "                total_sick = total_sick + 1\n",
    "            else:\n",
    "                new_humans[i] = p\n",
    "                \n",
    "        #illnes duration for every sick person\n",
    "        if immunity_loss and immunity_loss_days > 1:\n",
    "            for i,e in np.nditer([np.arange(N),contagion_era]):\n",
    "                if e > duration_days:\n",
    "                    new_humans[i] = -1\n",
    "        \n",
    "        # immunity loss\n",
    "        if immunity_loss:\n",
    "            for i,e in np.nditer([np.arange(N),immunity_era]):\n",
    "                if e > immunity_loss_days:\n",
    "                    new_humans[i] = 0\n",
    "        \n",
    "        #illness return...\n",
    "        if (intrusion > 0) and (epoca == intrusion):\n",
    "            new_humans[0] = 1\n",
    "            print(new_humans)\n",
    "            \n",
    "                \n",
    "        humans = np.copy(new_humans)\n",
    "        \n",
    "        sick.append(np.sum(np.where(humans==1,1,0)))\n",
    "        immunized.append(np.sum(np.where(humans==-1,1,0)))\n",
    "\n",
    "    return sick, immunized, total_sick"
   ]
  },
  {
   "cell_type": "code",
   "execution_count": 5,
   "metadata": {},
   "outputs": [
    {
     "name": "stdout",
     "output_type": "stream",
     "text": [
      "[1. 0. 0. 0. 0. 0. 0. 0. 0. 0. 0. 0. 0. 0. 0. 0. 0. 0. 0. 0. 0. 0. 0. 0.\n",
      " 0. 0. 0. 0. 0. 0. 0. 0. 0. 0. 0. 0. 0. 0. 0. 0. 0. 0. 0. 0. 0. 0. 0. 0.\n",
      " 0. 0. 0. 0. 0. 0. 0. 0. 0. 0. 0. 0. 0. 0. 0. 0. 0. 0. 0. 0. 0. 0. 0. 0.\n",
      " 0. 0. 0. 0. 0. 0. 0. 0. 0. 0. 0. 0. 0. 0. 0. 0. 0. 0. 0. 0. 0. 0. 0. 0.\n",
      " 0. 0. 0. 0. 0. 0. 0. 0. 0. 0. 0. 0. 0. 0. 0. 0. 0. 0. 0. 0. 0. 0. 0. 0.\n",
      " 0. 0. 0. 0. 0. 0. 0. 0. 0. 0. 0. 0. 0. 0. 0. 0. 0. 0. 0. 0. 0. 0. 0. 0.\n",
      " 0. 0. 0. 0. 0. 0. 0. 0. 0. 0. 0. 0. 0. 0. 0. 0. 0. 0. 0. 0. 0. 0. 0. 0.\n",
      " 0. 0. 0. 0. 0. 0. 0. 0. 0. 0. 0. 0. 0. 0. 0. 0. 0. 0. 0. 0. 0. 0. 0. 0.\n",
      " 0. 0. 0. 0. 0. 0. 0. 0. 0. 0. 0. 0. 0. 0. 0. 0. 0. 0. 0. 0. 0. 0. 0. 0.\n",
      " 0. 0. 0. 0. 0. 0. 0. 0. 0. 0. 0. 0. 0. 0. 0. 0. 0. 0. 0. 0. 0. 0. 0. 0.\n",
      " 0. 0. 0. 0. 0. 0. 0. 0. 0. 0. 0. 0. 0. 0. 0. 0. 0. 0. 0. 0. 0. 0. 0. 0.\n",
      " 0. 0. 0. 0. 0. 0. 0. 0. 0. 0. 0. 0. 0. 0. 0. 0. 0. 0. 0. 0. 0. 0. 0. 0.\n",
      " 0. 0. 0. 0. 0. 0. 0. 0. 0. 0. 0. 0. 0. 0. 0. 0. 0. 0. 0. 0. 0. 0. 0. 0.\n",
      " 0. 0. 0. 0. 0. 0. 0. 0. 0. 0. 0. 0. 0. 0. 0. 0. 0. 0. 0. 0. 0. 0. 0. 0.\n",
      " 0. 0. 0. 0. 0. 0. 0. 0. 0. 0. 0. 0. 0. 0. 0. 0. 0. 0. 0. 0. 0. 0. 0. 0.\n",
      " 0. 0. 0. 0. 0. 0. 0. 0. 0. 0. 0. 0. 0. 0. 0. 0. 0. 0. 0. 0. 0. 0. 0. 0.\n",
      " 0. 0. 0. 0. 0. 0. 0. 0. 0. 0. 0. 0. 0. 0. 0. 0. 0. 0. 0. 0. 0. 0. 0. 0.\n",
      " 0. 0. 0. 0. 0. 0. 0. 0. 0. 0. 0. 0. 0. 0. 0. 0. 0. 0. 0. 0. 0. 0. 0. 0.\n",
      " 0. 0. 0. 0. 0. 0. 0. 0. 0. 0. 0. 0. 0. 0. 0. 0. 0. 0. 0. 0. 0. 0. 0. 0.\n",
      " 0. 0. 0. 0. 0. 0. 0. 0. 0. 0. 0. 0. 0. 0. 0. 0. 0. 0. 0. 0. 0. 0. 0. 0.\n",
      " 0. 0. 0. 0. 0. 0. 0. 0. 0. 0. 0. 0. 0. 0. 0. 0. 0. 0. 0. 0.]\n"
     ]
    }
   ],
   "source": [
    "sick, immunized, total_sick = simulate(p_contagion=0.1, N_meet_day= 3, N=500, immunity_loss=True,\n",
    "                                       immunity_loss_days=10, intrusion = 100)"
   ]
  },
  {
   "cell_type": "code",
   "execution_count": 7,
   "metadata": {},
   "outputs": [
    {
     "data": {
      "text/plain": [
       "<matplotlib.legend.Legend at 0x1175e7b10>"
      ]
     },
     "execution_count": 7,
     "metadata": {},
     "output_type": "execute_result"
    },
    {
     "data": {
      "image/png": "[encoded data removed]",
      "text/plain": [
       "<Figure size 864x648 with 2 Axes>"
      ]
     },
     "metadata": {
      "needs_background": "light"
     },
     "output_type": "display_data"
    }
   ],
   "source": [
    "fig, axs = plt.subplots(2, 1, figsize=(12, 9), sharey=True)\n",
    "plt.subplots_adjust(hspace = 0.8)\n",
    "axs[0].plot(range(0,settings['Nday']), sick, label = 'Contagiati')\n",
    "axs[0].plot(range(0,settings['Nday']), immunized, label = 'Immunizzati')\n",
    "axs[0].set(xlabel=\"Giorni da inizio epidemia\", ylabel='Numero', title='Se incontro in media: \\n'+str(int(3))+ ' persone al giorno')\n",
    "axs[0].annotate('Totale ammalati: '+str(total_sick),xy=(110, 250), fontsize=20)\n",
    "axs[0].grid()\n",
    "axs[0].legend()"
   ]
  },
  {
   "cell_type": "markdown",
   "metadata": {},
   "source": [
    "## Two cases..."
   ]
  },
  {
   "cell_type": "code",
   "execution_count": null,
   "metadata": {},
   "outputs": [],
   "source": [
    "fig, axs = plt.subplots(2, 1, figsize=(12, 9), sharey=True)\n",
    "plt.subplots_adjust(hspace = 0.8)\n",
    "nmd = 20.0\n",
    "sick, immunized, total_sick = simulate(p_contagion=0.1, N_meet_day= nmd, N=500, immunity_loss=True,\n",
    "                                       immunity_loss_days=10, intrusion = 100)\n",
    "axs[0].plot(range(0,settings['Nday']), sick, label = 'Contagiati')\n",
    "axs[0].plot(range(0,settings['Nday']), immunized, label = 'Immunizzati')\n",
    "axs[0].set(xlabel=\"Giorni da inizio epidemia\", ylabel='Numero', title='Se incontro in media: \\n'+str(int(nmd))+ ' persone al giorno')\n",
    "axs[0].annotate('Totale ammalati: '+str(total_sick),xy=(110, 250), fontsize=20)\n",
    "axs[0].grid()\n",
    "axs[0].legend()\n",
    "\n",
    "nmd = 2.0\n",
    "sick, immunized, total_sick = simulate(p_contagion=0.1, N_meet_day= nmd, N=500, immunity_loss=True,\n",
    "                                       immunity_loss_days=10, intrusion = 100)\n",
    "axs[1].plot(range(0,settings['Nday']), sick, label = 'Contagiati')\n",
    "axs[1].plot(range(0,settings['Nday']), immunized, label = 'Immunizzati')\n",
    "axs[1].set(xlabel=\"Giorni da inizio epidemia\", ylabel='Numero', title='Se incontro in media: \\n'+str(int(nmd))+ ' persone al giorno')\n",
    "axs[1].annotate('Totale ammalati: '+str(total_sick),xy=(110, 300), fontsize=20)\n",
    "axs[1].grid()\n",
    "axs[1].legend()\n",
    "plt.show()"
   ]
  },
  {
   "cell_type": "markdown",
   "metadata": {},
   "source": [
    "## N-scaling"
   ]
  },
  {
   "cell_type": "code",
   "execution_count": null,
   "metadata": {},
   "outputs": [],
   "source": [
    "pop_sizes = [100,200,500,1000,2000,5000,10000]\n",
    "peak_day=[]\n",
    "for pop_size in pop_sizes:\n",
    "    sick, immunized, total_sick = simulate(p_contagion=0.1, N_meet_day= 2, N = pop_size)\n",
    "    peak_day.append(np.argmax(sick))\n",
    "peak_day"
   ]
  },
  {
   "cell_type": "code",
   "execution_count": null,
   "metadata": {},
   "outputs": [],
   "source": [
    "pop_sizes = [100,200,500,1000,2000,5000,10000]\n",
    "peak_day_2=[]\n",
    "for pop_size in pop_sizes:\n",
    "    sick, immunized, total_sick = simulate(p_contagion=0.1, N_meet_day= 4, N = pop_size, Nday=60)\n",
    "    peak_day_2.append(np.argmax(sick))\n",
    "peak_day_2"
   ]
  },
  {
   "cell_type": "code",
   "execution_count": null,
   "metadata": {},
   "outputs": [],
   "source": [
    "fig, ax = plt.subplots(figsize=(12, 9))\n",
    "ax.scatter(pop_sizes, peak_day)\n",
    "plt.plot()"
   ]
  },
  {
   "cell_type": "code",
   "execution_count": null,
   "metadata": {},
   "outputs": [],
   "source": [
    "fig, ax = plt.subplots(figsize=(12, 9))\n",
    "ax.scatter(pop_sizes, peak_day_2)\n",
    "plt.plot()"
   ]
  },
  {
   "cell_type": "code",
   "execution_count": null,
   "metadata": {},
   "outputs": [],
   "source": []
  }
 ],
 "metadata": {
  "kernelspec": {
   "display_name": "Python 3",
   "language": "python",
   "name": "python3"
  },
  "language_info": {
   "codemirror_mode": {
    "name": "ipython",
    "version": 3
   },
   "file_extension": ".py",
   "mimetype": "text/x-python",
   "name": "python",
   "nbconvert_exporter": "python",
   "pygments_lexer": "ipython3",
   "version": "3.7.4"
  }
 },
 "nbformat": 4,
 "nbformat_minor": 2
}
